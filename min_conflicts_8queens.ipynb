{
 "cells": [
  {
   "cell_type": "code",
   "execution_count": 2,
   "metadata": {},
   "outputs": [
    {
     "name": "stdout",
     "output_type": "stream",
     "text": [
      "Solution found in 138 steps!\n",
      "\n",
      "Final board configuration:\n",
      ". . . . Q . . . \n",
      ". . Q . . . . . \n",
      "Q . . . . . . . \n",
      ". . . . . Q . . \n",
      ". . . . . . . Q \n",
      ". Q . . . . . . \n",
      ". . . Q . . . . \n",
      ". . . . . . Q . \n"
     ]
    }
   ],
   "source": [
    "import random\n",
    "\n",
    "def min_conflicts(n, max_steps):\n",
    "    # Initialize board with one queen per column randomly\n",
    "    board = [random.randint(0, n-1) for _ in range(n)]\n",
    "    \n",
    "    for step in range(max_steps):\n",
    "        # Check if solution is found\n",
    "        conflicts = get_conflicts(board)\n",
    "        if conflicts == 0:\n",
    "            print(f\"Solution found in {step} steps!\")\n",
    "            return board\n",
    "            \n",
    "        # Select random column with conflicts\n",
    "        col = random.randint(0, n-1)\n",
    "        \n",
    "        # Find position in column with minimum conflicts\n",
    "        min_conflicts = n\n",
    "        best_rows = []\n",
    "        for row in range(n):\n",
    "            temp_board = board.copy()\n",
    "            temp_board[col] = row\n",
    "            curr_conflicts = get_conflicts(temp_board)\n",
    "            if curr_conflicts < min_conflicts:\n",
    "                min_conflicts = curr_conflicts\n",
    "                best_rows = [row]\n",
    "            elif curr_conflicts == min_conflicts:\n",
    "                best_rows.append(row)\n",
    "                \n",
    "        # Move queen to position with minimum conflicts\n",
    "        board[col] = random.choice(best_rows)\n",
    "    \n",
    "    print(\"No solution found\")\n",
    "    return None\n",
    "\n",
    "def get_conflicts(board):\n",
    "    conflicts = 0\n",
    "    n = len(board)\n",
    "    for i in range(n):\n",
    "        for j in range(i+1, n):\n",
    "            if board[i] == board[j]:  # Same row\n",
    "                conflicts += 1\n",
    "            offset = j - i\n",
    "            if board[i] == board[j] + offset or board[i] == board[j] - offset:  # Diagonal\n",
    "                conflicts += 1\n",
    "    return conflicts\n",
    "\n",
    "def print_board(board):\n",
    "    if board is None:\n",
    "        print(\"No solution to display\")\n",
    "        return\n",
    "    n = len(board)\n",
    "    for row in range(n):\n",
    "        line = \"\"\n",
    "        for col in range(n):\n",
    "            if board[col] == row:\n",
    "                line += \"Q \"\n",
    "            else:\n",
    "                line += \". \"\n",
    "        print(line)\n",
    "\n",
    "# Test the implementation\n",
    "n = 8\n",
    "max_steps = 1000\n",
    "solution = min_conflicts(n, max_steps)\n",
    "print(\"\\nFinal board configuration:\")\n",
    "print_board(solution)"
   ]
  },
  {
   "cell_type": "code",
   "execution_count": null,
   "metadata": {},
   "outputs": [],
   "source": []
  }
 ],
 "metadata": {
  "kernelspec": {
   "display_name": "Python 3",
   "language": "python",
   "name": "python3"
  },
  "language_info": {
   "codemirror_mode": {
    "name": "ipython",
    "version": 3
   },
   "file_extension": ".py",
   "mimetype": "text/x-python",
   "name": "python",
   "nbconvert_exporter": "python",
   "pygments_lexer": "ipython3",
   "version": "3.7.16"
  }
 },
 "nbformat": 4,
 "nbformat_minor": 4
}
